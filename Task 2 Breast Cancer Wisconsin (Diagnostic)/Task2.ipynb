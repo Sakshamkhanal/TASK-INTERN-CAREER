{
 "cells": [
  {
   "cell_type": "code",
   "execution_count": null,
   "id": "f73e4e3d",
   "metadata": {},
   "outputs": [],
   "source": [
    "import numpy as np\n",
    "import seaborn as sns\n",
    "import matplotlib.pyplot as plt\n",
    "import pandas as pd\n",
    "from sklearn.model_selection import  train_test_split\n",
    "from sklearn.ensemble import RandomForestClassifier\n",
    "from sklearn.metrics import confusion_matrix\n",
    "from sklearn.metrics import accuracy_score"
   ]
  },
  {
   "cell_type": "code",
   "execution_count": null,
   "id": "febe8cf6",
   "metadata": {},
   "outputs": [],
   "source": [
    "data = pd.read_csv('data.csv')"
   ]
  },
  {
   "cell_type": "code",
   "execution_count": null,
   "id": "9aacb4d9",
   "metadata": {},
   "outputs": [],
   "source": [
    "data.head()"
   ]
  },
  {
   "cell_type": "code",
   "execution_count": null,
   "id": "a6a1cf14",
   "metadata": {},
   "outputs": [],
   "source": [
    "col_name=data.columns"
   ]
  },
  {
   "cell_type": "code",
   "execution_count": null,
   "id": "3ac52ac0",
   "metadata": {},
   "outputs": [],
   "source": [
    "col_name"
   ]
  },
  {
   "cell_type": "code",
   "execution_count": null,
   "id": "e7d4e143",
   "metadata": {},
   "outputs": [],
   "source": [
    "y = data.diagnosis\n",
    "drop_cols =['Unnamed: 32','id','diagnosis']\n",
    "x=data.drop(drop_cols,axis=1)\n",
    "x.head()"
   ]
  },
  {
   "cell_type": "code",
   "execution_count": null,
   "id": "c542811c",
   "metadata": {},
   "outputs": [],
   "source": [
    "x.describe()"
   ]
  },
  {
   "cell_type": "code",
   "execution_count": null,
   "id": "1ae9bd36",
   "metadata": {},
   "outputs": [],
   "source": [
    "sns.set(style=\"whitegrid\")\n",
    "data=x\n",
    "data_std =(data-data.mean())/data.std()\n",
    "data = pd.concat([y,data_std.iloc[:,0:10]],axis=1)\n",
    "data = pd.melt(data,id_vars='diagnosis',var_name='features',value_name='value')\n",
    "plt.figure(figsize=(10,10))\n",
    "sns.swarmplot(x='features',y='value',hue='diagnosis',data=data,palette='Blues')\n",
    "plt.xticks(rotation=45)\n",
    "plt.show()"
   ]
  },
  {
   "cell_type": "code",
   "execution_count": null,
   "id": "96a74e24",
   "metadata": {},
   "outputs": [],
   "source": [
    "sns.set(style='whitegrid')\n",
    "data=x\n",
    "data_std=(data-data.mean())/data.std()\n",
    "data = pd.concat([y,data_std.iloc[:,10:20]],axis=1)\n",
    "data = pd.melt(data,id_vars='diagnosis',var_name='features',value_name='value')\n",
    "plt.figure(figsize=(10,10))\n",
    "sns.swarmplot(x='features',y='value',hue='diagnosis',data=data,palette='Purples')\n",
    "plt.xticks(rotation=45)\n",
    "plt.show()"
   ]
  },
  {
   "cell_type": "code",
   "execution_count": null,
   "id": "058b61be",
   "metadata": {},
   "outputs": [],
   "source": [
    "sns.set(style='whitegrid')\n",
    "data=x\n",
    "data_std=(data-data.mean())/data.std()\n",
    "data = pd.concat([y,data_std.iloc[:,20:30]],axis=1)\n",
    "data = pd.melt(data,id_vars='diagnosis',var_name='features',value_name='value')\n",
    "plt.figure(figsize=(10,10))\n",
    "sns.swarmplot(x='features',y='value',hue='diagnosis',data=data,palette='autumn')\n",
    "plt.xticks(rotation=45)\n",
    "plt.show()"
   ]
  },
  {
   "cell_type": "code",
   "execution_count": null,
   "id": "5a999e71",
   "metadata": {},
   "outputs": [],
   "source": [
    "f,ax = plt.subplots(figsize=(20,20))\n",
    "sns.heatmap(x.corr(),annot=True,linewidth=0.5,fmt='.1f',ax=ax)\n",
    "plt.show()"
   ]
  },
  {
   "cell_type": "code",
   "execution_count": null,
   "id": "72452d33",
   "metadata": {},
   "outputs": [],
   "source": [
    "x.head()"
   ]
  },
  {
   "cell_type": "code",
   "execution_count": null,
   "id": "448fa08a",
   "metadata": {},
   "outputs": [],
   "source": [
    "\n",
    "drop_list = ['perimeter_mean','radius_mean','compactness_mean','concave points_mean','radius_se','perimeter_se','radius_worst'\n",
    "             ,'perimeter_worst','compactness_worst','concavity_worst','compactness_se','concave points_se','texture_worst','area_worst']"
   ]
  },
  {
   "cell_type": "code",
   "execution_count": null,
   "id": "3f5ef9e4",
   "metadata": {},
   "outputs": [],
   "source": [
    "x1 =x.drop(drop_list,axis=1)\n",
    "x1.head()"
   ]
  },
  {
   "cell_type": "code",
   "execution_count": null,
   "id": "2634ab6d",
   "metadata": {},
   "outputs": [],
   "source": [
    "f,ax = plt.subplots(figsize=(20,20))\n",
    "sns.heatmap(x.corr(),annot=True,linewidth=0.5,fmt='.1f',ax=ax)\n",
    "plt.show()"
   ]
  },
  {
   "cell_type": "code",
   "execution_count": null,
   "id": "fd411796",
   "metadata": {},
   "outputs": [],
   "source": [
    "x_train, x_test, y_train, y_test = train_test_split(x1, y, test_size=0.2, random_state=21)"
   ]
  },
  {
   "cell_type": "code",
   "execution_count": null,
   "id": "ec673f51",
   "metadata": {},
   "outputs": [],
   "source": [
    "clf_rf=RandomForestClassifier(random_state=42)\n",
    "clf_rf = clf_rf.fit(x_train,y_train)"
   ]
  },
  {
   "cell_type": "code",
   "execution_count": null,
   "id": "c118b7e5",
   "metadata": {},
   "outputs": [],
   "source": [
    "ac = accuracy_score(y_test,clf_rf.predict(x_test))\n",
    "print('Accuracy is:',ac*100)\n",
    "cm = confusion_matrix(y_test,clf_rf.predict(x_test))\n",
    "sns.heatmap(cm/np.sum(cm),annot=True,fmt='.2%',cmap='Blues')\n",
    "plt.show()"
   ]
  }
 ],
 "metadata": {
  "kernelspec": {
   "display_name": "Python 3 (ipykernel)",
   "language": "python",
   "name": "python3"
  },
  "language_info": {
   "codemirror_mode": {
    "name": "ipython",
    "version": 3
   },
   "file_extension": ".py",
   "mimetype": "text/x-python",
   "name": "python",
   "nbconvert_exporter": "python",
   "pygments_lexer": "ipython3",
   "version": "3.11.4"
  }
 },
 "nbformat": 4,
 "nbformat_minor": 5
}
